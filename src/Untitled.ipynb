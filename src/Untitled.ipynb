{
 "cells": [
  {
   "cell_type": "code",
   "execution_count": 2,
   "id": "4a9d1b34",
   "metadata": {},
   "outputs": [],
   "source": [
    "from statemachine import StateMachine, State\n",
    "\n",
    "class LightBulb(StateMachine):\n",
    "    off_state = State('off', initial = True)\n",
    "    on_state = State('on')\n",
    "    \n",
    "    switch_on = off_state.to(on_state)\n",
    "    switch_off = on_state.to(off_state)"
   ]
  },
  {
   "cell_type": "code",
   "execution_count": 3,
   "id": "36db0dde",
   "metadata": {},
   "outputs": [
    {
     "name": "stdout",
     "output_type": "stream",
     "text": [
      "State('off', id='off_state', value='off_state', initial=True, final=False)\n"
     ]
    }
   ],
   "source": [
    "bulb = LightBulb()\n",
    "print(bulb.current_state)"
   ]
  },
  {
   "cell_type": "code",
   "execution_count": 4,
   "id": "1e422582",
   "metadata": {},
   "outputs": [],
   "source": [
    "bulb.switch_on()"
   ]
  },
  {
   "cell_type": "code",
   "execution_count": 5,
   "id": "4335aa54",
   "metadata": {},
   "outputs": [
    {
     "name": "stdout",
     "output_type": "stream",
     "text": [
      "State('on', id='on_state', value='on_state', initial=False, final=False)\n"
     ]
    }
   ],
   "source": [
    "print(bulb.current_state)"
   ]
  },
  {
   "cell_type": "code",
   "execution_count": 7,
   "id": "8ee219d5",
   "metadata": {},
   "outputs": [],
   "source": [
    "from statemachine.contrib.diagram import DotGraphMachine"
   ]
  },
  {
   "cell_type": "code",
   "execution_count": 8,
   "id": "d8db093d",
   "metadata": {},
   "outputs": [
    {
     "data": {
      "text/plain": [
       "'digraph list {\\nfontsize=\"10pt\";\\nlabel=LightBulb;\\nrankdir=LR;\\ni [fillcolor=black, fixedsize=true, fontsize=\"1pt\", height=0.2, shape=circle, style=filled, width=0.2];\\ni -> off_state  [color=blue, fontsize=\"9pt\", label=\"\"];\\noff_state [fillcolor=white, fontsize=\"10pt\", label=off, peripheries=1, shape=rectangle, style=\"rounded, filled\"];\\noff_state -> on_state  [color=blue, fontsize=\"9pt\", label=switch_on];\\non_state [fillcolor=turquoise, fontsize=\"10pt\", label=on, penwidth=2, peripheries=1, shape=rectangle, style=\"rounded, filled\"];\\non_state -> off_state  [color=blue, fontsize=\"9pt\", label=switch_off];\\n}\\n'"
      ]
     },
     "execution_count": 8,
     "metadata": {},
     "output_type": "execute_result"
    }
   ],
   "source": [
    "graph = DotGraphMachine(bulb)\n",
    "dot = graph()\n",
    "dot.to_string()"
   ]
  },
  {
   "cell_type": "code",
   "execution_count": 10,
   "id": "8a2414f3",
   "metadata": {},
   "outputs": [],
   "source": [
    "dot.write_png('./test_bulb_state_machine.png')"
   ]
  },
  {
   "cell_type": "code",
   "execution_count": 11,
   "id": "8e0202db",
   "metadata": {},
   "outputs": [
    {
     "name": "stdout",
     "output_type": "stream",
     "text": [
      "/Users/alex/IdeaProjects/Monster/src\n"
     ]
    },
    {
     "data": {
      "text/plain": [
       "0"
      ]
     },
     "execution_count": 11,
     "metadata": {},
     "output_type": "execute_result"
    }
   ],
   "source": [
    "import os\n",
    "os.system(\"pwd\")"
   ]
  }
 ],
 "metadata": {
  "kernelspec": {
   "display_name": "Python 3 (ipykernel)",
   "language": "python",
   "name": "python3"
  },
  "language_info": {
   "codemirror_mode": {
    "name": "ipython",
    "version": 3
   },
   "file_extension": ".py",
   "mimetype": "text/x-python",
   "name": "python",
   "nbconvert_exporter": "python",
   "pygments_lexer": "ipython3",
   "version": "3.9.6"
  }
 },
 "nbformat": 4,
 "nbformat_minor": 5
}
